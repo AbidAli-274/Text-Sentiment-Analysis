{
  "nbformat": 4,
  "nbformat_minor": 0,
  "metadata": {
    "colab": {
      "provenance": [],
      "gpuType": "T4"
    },
    "kernelspec": {
      "name": "python3",
      "display_name": "Python 3"
    },
    "language_info": {
      "name": "python"
    },
    "accelerator": "GPU"
  },
  "cells": [
    {
      "cell_type": "code",
      "execution_count": 1,
      "metadata": {
        "colab": {
          "base_uri": "https://localhost:8080/"
        },
        "id": "rtAlvjMq4mNP",
        "outputId": "500e994a-b2ee-4493-dd13-e7fbe7ea9efc"
      },
      "outputs": [
        {
          "output_type": "stream",
          "name": "stdout",
          "text": [
            "Mounted at /content/drive\n"
          ]
        }
      ],
      "source": [
        "from google.colab import drive\n",
        "drive.mount('/content/drive')"
      ]
    },
    {
      "cell_type": "code",
      "source": [
        "import numpy as np\n",
        "import pandas as pd\n",
        "import re\n",
        "from sklearn.metrics import accuracy_score\n",
        "import nltk\n",
        "from nltk.corpus import stopwords\n",
        "from sklearn.preprocessing import LabelEncoder\n",
        "from sklearn.model_selection import train_test_split\n",
        "from tensorflow.keras.preprocessing.text import Tokenizer\n",
        "from tensorflow.keras.preprocessing.sequence import pad_sequences"
      ],
      "metadata": {
        "id": "PggnmOOO4m0t"
      },
      "execution_count": 2,
      "outputs": []
    },
    {
      "cell_type": "code",
      "source": [
        "df=pd.read_csv('/content/drive/MyDrive/Data.csv', encoding='latin1')\n",
        "df=df.drop_duplicates()\n",
        "df=df.dropna()\n",
        "df.shape"
      ],
      "metadata": {
        "colab": {
          "base_uri": "https://localhost:8080/"
        },
        "id": "vLvbv9P-4wt8",
        "outputId": "ee855254-48a7-42fb-e67f-cbc02ac473fc"
      },
      "execution_count": 3,
      "outputs": [
        {
          "output_type": "execute_result",
          "data": {
            "text/plain": [
              "(27480, 10)"
            ]
          },
          "metadata": {},
          "execution_count": 3
        }
      ]
    },
    {
      "cell_type": "code",
      "source": [
        "df.head(2)"
      ],
      "metadata": {
        "colab": {
          "base_uri": "https://localhost:8080/",
          "height": 164
        },
        "id": "1IM6iOxW4_6Q",
        "outputId": "41808193-afbb-4091-d67f-3a816ce1145f"
      },
      "execution_count": 4,
      "outputs": [
        {
          "output_type": "execute_result",
          "data": {
            "text/plain": [
              "       textID                                            text  \\\n",
              "0  cb774db0d1             I`d have responded, if I were going   \n",
              "1  549e992a42   Sooo SAD I will miss you here in San Diego!!!   \n",
              "\n",
              "                         selected_text sentiment Time of Tweet Age of User  \\\n",
              "0  I`d have responded, if I were going   neutral       morning        0-20   \n",
              "1                             Sooo SAD  negative          noon       21-30   \n",
              "\n",
              "       Country  Population -2020  Land Area (Km²)  Density (P/Km²)  \n",
              "0  Afghanistan          38928346         652860.0               60  \n",
              "1      Albania           2877797          27400.0              105  "
            ],
            "text/html": [
              "\n",
              "  <div id=\"df-15562499-33e9-42d3-b64b-0df34e8591da\" class=\"colab-df-container\">\n",
              "    <div>\n",
              "<style scoped>\n",
              "    .dataframe tbody tr th:only-of-type {\n",
              "        vertical-align: middle;\n",
              "    }\n",
              "\n",
              "    .dataframe tbody tr th {\n",
              "        vertical-align: top;\n",
              "    }\n",
              "\n",
              "    .dataframe thead th {\n",
              "        text-align: right;\n",
              "    }\n",
              "</style>\n",
              "<table border=\"1\" class=\"dataframe\">\n",
              "  <thead>\n",
              "    <tr style=\"text-align: right;\">\n",
              "      <th></th>\n",
              "      <th>textID</th>\n",
              "      <th>text</th>\n",
              "      <th>selected_text</th>\n",
              "      <th>sentiment</th>\n",
              "      <th>Time of Tweet</th>\n",
              "      <th>Age of User</th>\n",
              "      <th>Country</th>\n",
              "      <th>Population -2020</th>\n",
              "      <th>Land Area (Km²)</th>\n",
              "      <th>Density (P/Km²)</th>\n",
              "    </tr>\n",
              "  </thead>\n",
              "  <tbody>\n",
              "    <tr>\n",
              "      <th>0</th>\n",
              "      <td>cb774db0d1</td>\n",
              "      <td>I`d have responded, if I were going</td>\n",
              "      <td>I`d have responded, if I were going</td>\n",
              "      <td>neutral</td>\n",
              "      <td>morning</td>\n",
              "      <td>0-20</td>\n",
              "      <td>Afghanistan</td>\n",
              "      <td>38928346</td>\n",
              "      <td>652860.0</td>\n",
              "      <td>60</td>\n",
              "    </tr>\n",
              "    <tr>\n",
              "      <th>1</th>\n",
              "      <td>549e992a42</td>\n",
              "      <td>Sooo SAD I will miss you here in San Diego!!!</td>\n",
              "      <td>Sooo SAD</td>\n",
              "      <td>negative</td>\n",
              "      <td>noon</td>\n",
              "      <td>21-30</td>\n",
              "      <td>Albania</td>\n",
              "      <td>2877797</td>\n",
              "      <td>27400.0</td>\n",
              "      <td>105</td>\n",
              "    </tr>\n",
              "  </tbody>\n",
              "</table>\n",
              "</div>\n",
              "    <div class=\"colab-df-buttons\">\n",
              "\n",
              "  <div class=\"colab-df-container\">\n",
              "    <button class=\"colab-df-convert\" onclick=\"convertToInteractive('df-15562499-33e9-42d3-b64b-0df34e8591da')\"\n",
              "            title=\"Convert this dataframe to an interactive table.\"\n",
              "            style=\"display:none;\">\n",
              "\n",
              "  <svg xmlns=\"http://www.w3.org/2000/svg\" height=\"24px\" viewBox=\"0 -960 960 960\">\n",
              "    <path d=\"M120-120v-720h720v720H120Zm60-500h600v-160H180v160Zm220 220h160v-160H400v160Zm0 220h160v-160H400v160ZM180-400h160v-160H180v160Zm440 0h160v-160H620v160ZM180-180h160v-160H180v160Zm440 0h160v-160H620v160Z\"/>\n",
              "  </svg>\n",
              "    </button>\n",
              "\n",
              "  <style>\n",
              "    .colab-df-container {\n",
              "      display:flex;\n",
              "      gap: 12px;\n",
              "    }\n",
              "\n",
              "    .colab-df-convert {\n",
              "      background-color: #E8F0FE;\n",
              "      border: none;\n",
              "      border-radius: 50%;\n",
              "      cursor: pointer;\n",
              "      display: none;\n",
              "      fill: #1967D2;\n",
              "      height: 32px;\n",
              "      padding: 0 0 0 0;\n",
              "      width: 32px;\n",
              "    }\n",
              "\n",
              "    .colab-df-convert:hover {\n",
              "      background-color: #E2EBFA;\n",
              "      box-shadow: 0px 1px 2px rgba(60, 64, 67, 0.3), 0px 1px 3px 1px rgba(60, 64, 67, 0.15);\n",
              "      fill: #174EA6;\n",
              "    }\n",
              "\n",
              "    .colab-df-buttons div {\n",
              "      margin-bottom: 4px;\n",
              "    }\n",
              "\n",
              "    [theme=dark] .colab-df-convert {\n",
              "      background-color: #3B4455;\n",
              "      fill: #D2E3FC;\n",
              "    }\n",
              "\n",
              "    [theme=dark] .colab-df-convert:hover {\n",
              "      background-color: #434B5C;\n",
              "      box-shadow: 0px 1px 3px 1px rgba(0, 0, 0, 0.15);\n",
              "      filter: drop-shadow(0px 1px 2px rgba(0, 0, 0, 0.3));\n",
              "      fill: #FFFFFF;\n",
              "    }\n",
              "  </style>\n",
              "\n",
              "    <script>\n",
              "      const buttonEl =\n",
              "        document.querySelector('#df-15562499-33e9-42d3-b64b-0df34e8591da button.colab-df-convert');\n",
              "      buttonEl.style.display =\n",
              "        google.colab.kernel.accessAllowed ? 'block' : 'none';\n",
              "\n",
              "      async function convertToInteractive(key) {\n",
              "        const element = document.querySelector('#df-15562499-33e9-42d3-b64b-0df34e8591da');\n",
              "        const dataTable =\n",
              "          await google.colab.kernel.invokeFunction('convertToInteractive',\n",
              "                                                    [key], {});\n",
              "        if (!dataTable) return;\n",
              "\n",
              "        const docLinkHtml = 'Like what you see? Visit the ' +\n",
              "          '<a target=\"_blank\" href=https://colab.research.google.com/notebooks/data_table.ipynb>data table notebook</a>'\n",
              "          + ' to learn more about interactive tables.';\n",
              "        element.innerHTML = '';\n",
              "        dataTable['output_type'] = 'display_data';\n",
              "        await google.colab.output.renderOutput(dataTable, element);\n",
              "        const docLink = document.createElement('div');\n",
              "        docLink.innerHTML = docLinkHtml;\n",
              "        element.appendChild(docLink);\n",
              "      }\n",
              "    </script>\n",
              "  </div>\n",
              "\n",
              "\n",
              "<div id=\"df-88d23597-d348-462d-bcb9-9c0db24798d8\">\n",
              "  <button class=\"colab-df-quickchart\" onclick=\"quickchart('df-88d23597-d348-462d-bcb9-9c0db24798d8')\"\n",
              "            title=\"Suggest charts.\"\n",
              "            style=\"display:none;\">\n",
              "\n",
              "<svg xmlns=\"http://www.w3.org/2000/svg\" height=\"24px\"viewBox=\"0 0 24 24\"\n",
              "     width=\"24px\">\n",
              "    <g>\n",
              "        <path d=\"M19 3H5c-1.1 0-2 .9-2 2v14c0 1.1.9 2 2 2h14c1.1 0 2-.9 2-2V5c0-1.1-.9-2-2-2zM9 17H7v-7h2v7zm4 0h-2V7h2v10zm4 0h-2v-4h2v4z\"/>\n",
              "    </g>\n",
              "</svg>\n",
              "  </button>\n",
              "\n",
              "<style>\n",
              "  .colab-df-quickchart {\n",
              "      --bg-color: #E8F0FE;\n",
              "      --fill-color: #1967D2;\n",
              "      --hover-bg-color: #E2EBFA;\n",
              "      --hover-fill-color: #174EA6;\n",
              "      --disabled-fill-color: #AAA;\n",
              "      --disabled-bg-color: #DDD;\n",
              "  }\n",
              "\n",
              "  [theme=dark] .colab-df-quickchart {\n",
              "      --bg-color: #3B4455;\n",
              "      --fill-color: #D2E3FC;\n",
              "      --hover-bg-color: #434B5C;\n",
              "      --hover-fill-color: #FFFFFF;\n",
              "      --disabled-bg-color: #3B4455;\n",
              "      --disabled-fill-color: #666;\n",
              "  }\n",
              "\n",
              "  .colab-df-quickchart {\n",
              "    background-color: var(--bg-color);\n",
              "    border: none;\n",
              "    border-radius: 50%;\n",
              "    cursor: pointer;\n",
              "    display: none;\n",
              "    fill: var(--fill-color);\n",
              "    height: 32px;\n",
              "    padding: 0;\n",
              "    width: 32px;\n",
              "  }\n",
              "\n",
              "  .colab-df-quickchart:hover {\n",
              "    background-color: var(--hover-bg-color);\n",
              "    box-shadow: 0 1px 2px rgba(60, 64, 67, 0.3), 0 1px 3px 1px rgba(60, 64, 67, 0.15);\n",
              "    fill: var(--button-hover-fill-color);\n",
              "  }\n",
              "\n",
              "  .colab-df-quickchart-complete:disabled,\n",
              "  .colab-df-quickchart-complete:disabled:hover {\n",
              "    background-color: var(--disabled-bg-color);\n",
              "    fill: var(--disabled-fill-color);\n",
              "    box-shadow: none;\n",
              "  }\n",
              "\n",
              "  .colab-df-spinner {\n",
              "    border: 2px solid var(--fill-color);\n",
              "    border-color: transparent;\n",
              "    border-bottom-color: var(--fill-color);\n",
              "    animation:\n",
              "      spin 1s steps(1) infinite;\n",
              "  }\n",
              "\n",
              "  @keyframes spin {\n",
              "    0% {\n",
              "      border-color: transparent;\n",
              "      border-bottom-color: var(--fill-color);\n",
              "      border-left-color: var(--fill-color);\n",
              "    }\n",
              "    20% {\n",
              "      border-color: transparent;\n",
              "      border-left-color: var(--fill-color);\n",
              "      border-top-color: var(--fill-color);\n",
              "    }\n",
              "    30% {\n",
              "      border-color: transparent;\n",
              "      border-left-color: var(--fill-color);\n",
              "      border-top-color: var(--fill-color);\n",
              "      border-right-color: var(--fill-color);\n",
              "    }\n",
              "    40% {\n",
              "      border-color: transparent;\n",
              "      border-right-color: var(--fill-color);\n",
              "      border-top-color: var(--fill-color);\n",
              "    }\n",
              "    60% {\n",
              "      border-color: transparent;\n",
              "      border-right-color: var(--fill-color);\n",
              "    }\n",
              "    80% {\n",
              "      border-color: transparent;\n",
              "      border-right-color: var(--fill-color);\n",
              "      border-bottom-color: var(--fill-color);\n",
              "    }\n",
              "    90% {\n",
              "      border-color: transparent;\n",
              "      border-bottom-color: var(--fill-color);\n",
              "    }\n",
              "  }\n",
              "</style>\n",
              "\n",
              "  <script>\n",
              "    async function quickchart(key) {\n",
              "      const quickchartButtonEl =\n",
              "        document.querySelector('#' + key + ' button');\n",
              "      quickchartButtonEl.disabled = true;  // To prevent multiple clicks.\n",
              "      quickchartButtonEl.classList.add('colab-df-spinner');\n",
              "      try {\n",
              "        const charts = await google.colab.kernel.invokeFunction(\n",
              "            'suggestCharts', [key], {});\n",
              "      } catch (error) {\n",
              "        console.error('Error during call to suggestCharts:', error);\n",
              "      }\n",
              "      quickchartButtonEl.classList.remove('colab-df-spinner');\n",
              "      quickchartButtonEl.classList.add('colab-df-quickchart-complete');\n",
              "    }\n",
              "    (() => {\n",
              "      let quickchartButtonEl =\n",
              "        document.querySelector('#df-88d23597-d348-462d-bcb9-9c0db24798d8 button');\n",
              "      quickchartButtonEl.style.display =\n",
              "        google.colab.kernel.accessAllowed ? 'block' : 'none';\n",
              "    })();\n",
              "  </script>\n",
              "</div>\n",
              "    </div>\n",
              "  </div>\n"
            ]
          },
          "metadata": {},
          "execution_count": 4
        }
      ]
    },
    {
      "cell_type": "code",
      "source": [
        "# Specify the column containing text data\n",
        "message_column = 'selected_text'\n",
        "# Check and convert non-string elements to strings\n",
        "df[message_column] = df[message_column].astype(str)\n",
        "# Lowercasing and removing special characters\n",
        "df[message_column] = df[message_column].str.lower()\n",
        "df[message_column] = df[message_column].apply(lambda x: re.sub(r'[^a-zA-Z0-9\\s]', '', x))\n",
        "\n",
        "nltk.download('stopwords')\n",
        "\n",
        "def remove_stopwords(text):\n",
        "    stopwords_list = stopwords.words(\"english\")\n",
        "    tokens = text.split()\n",
        "    clean_tokens = [token for token in tokens if token not in stopwords_list]\n",
        "    return \" \".join(clean_tokens)\n",
        "\n",
        "# Apply remove_stopwords to the 'text' column\n",
        "df[message_column] = df[message_column].apply(remove_stopwords)\n",
        "\n",
        "\n",
        "\n",
        "# Display a few values after preprocessing\n",
        "print(\"\\nData After Preprocessing:\")\n",
        "#print(df.head())\n",
        "df[message_column]"
      ],
      "metadata": {
        "colab": {
          "base_uri": "https://localhost:8080/"
        },
        "id": "OYXVMgLc7lv4",
        "outputId": "01e013ba-7e70-48a3-81b9-70125d8e55e6"
      },
      "execution_count": 5,
      "outputs": [
        {
          "output_type": "stream",
          "name": "stderr",
          "text": [
            "[nltk_data] Downloading package stopwords to /root/nltk_data...\n",
            "[nltk_data]   Unzipping corpora/stopwords.zip.\n"
          ]
        },
        {
          "output_type": "stream",
          "name": "stdout",
          "text": [
            "\n",
            "Data After Preprocessing:\n"
          ]
        },
        {
          "output_type": "execute_result",
          "data": {
            "text/plain": [
              "0                        id responded going\n",
              "1                                  sooo sad\n",
              "2                                  bullying\n",
              "3                               leave alone\n",
              "4                                      sons\n",
              "                        ...                \n",
              "27476                                  lost\n",
              "27477                            dont force\n",
              "27478                              yay good\n",
              "27479                                 worth\n",
              "27480    flirting going atg smiles yay hugs\n",
              "Name: selected_text, Length: 27480, dtype: object"
            ]
          },
          "metadata": {},
          "execution_count": 5
        }
      ]
    },
    {
      "cell_type": "code",
      "source": [
        "df['sentiment'].unique()"
      ],
      "metadata": {
        "colab": {
          "base_uri": "https://localhost:8080/"
        },
        "id": "GlgJcb1N-wo5",
        "outputId": "b84a7347-a285-4b7c-d18a-7561ea367da2"
      },
      "execution_count": 6,
      "outputs": [
        {
          "output_type": "execute_result",
          "data": {
            "text/plain": [
              "array(['neutral', 'negative', 'positive'], dtype=object)"
            ]
          },
          "metadata": {},
          "execution_count": 6
        }
      ]
    },
    {
      "cell_type": "code",
      "source": [
        "a=df[df['sentiment'] == 'positive']\n",
        "df1=pd.DataFrame(a)\n",
        "print('Positive samples: ',a.shape)\n",
        "b=df[df['sentiment'] == 'negative']\n",
        "df2=pd.DataFrame(b)\n",
        "print('Negative samples: ',b.shape)\n",
        "c=df[df['sentiment'] == 'neutral']\n",
        "df3=pd.DataFrame(c)\n",
        "print('Neutral samples: ',c.shape)"
      ],
      "metadata": {
        "colab": {
          "base_uri": "https://localhost:8080/"
        },
        "id": "NPMULsnQ-6CO",
        "outputId": "98ee1f51-d1d7-41cc-9fe6-792f0ffa36c2"
      },
      "execution_count": 7,
      "outputs": [
        {
          "output_type": "stream",
          "name": "stdout",
          "text": [
            "Positive samples:  (8582, 10)\n",
            "Negative samples:  (7781, 10)\n",
            "Neutral samples:  (11117, 10)\n"
          ]
        }
      ]
    },
    {
      "cell_type": "code",
      "source": [
        "df1=df1[:7780]\n",
        "df2=df2[:7780]\n",
        "df3=df3[:7780]\n",
        "df = pd.concat([df1, df2,df3])\n",
        "df.shape"
      ],
      "metadata": {
        "colab": {
          "base_uri": "https://localhost:8080/"
        },
        "id": "KMejK5Uk_qXh",
        "outputId": "9df41b0b-3d19-4682-ce94-06555cb6f163"
      },
      "execution_count": 8,
      "outputs": [
        {
          "output_type": "execute_result",
          "data": {
            "text/plain": [
              "(23340, 10)"
            ]
          },
          "metadata": {},
          "execution_count": 8
        }
      ]
    },
    {
      "cell_type": "code",
      "source": [
        "# Initialize the LabelEncoder\n",
        "label_encoder = LabelEncoder()\n",
        "\n",
        "# Encode the target variable y\n",
        "y_encoded = label_encoder.fit_transform(df['sentiment'])\n",
        "# Display a few values of y (encoded)\n",
        "print(\"\\nEncoded Target Variable (y):\")\n",
        "#print(y_encoded[:5])\n",
        "y_encoded"
      ],
      "metadata": {
        "colab": {
          "base_uri": "https://localhost:8080/"
        },
        "id": "rsOtdcFZ87yz",
        "outputId": "56b41b37-b694-459c-9ba3-16dbfaa456b1"
      },
      "execution_count": 9,
      "outputs": [
        {
          "output_type": "stream",
          "name": "stdout",
          "text": [
            "\n",
            "Encoded Target Variable (y):\n"
          ]
        },
        {
          "output_type": "execute_result",
          "data": {
            "text/plain": [
              "array([2, 2, 2, ..., 1, 1, 1])"
            ]
          },
          "metadata": {},
          "execution_count": 9
        }
      ]
    },
    {
      "cell_type": "code",
      "source": [
        "# Tokenize the text data\n",
        "tokenizer = Tokenizer(num_words=10000)  # Adjust num_words as needed\n",
        "tokenizer.fit_on_texts(df[message_column])\n",
        "# Convert text to sequences\n",
        "X_sequences = tokenizer.texts_to_sequences(df[message_column])\n",
        "# Display a few Sequences\n",
        "print(\"\\nDisplay few values of sequences:\")\n",
        "print(X_sequences[:5])\n",
        "# Pad sequences to a fixed length (adjust maxlen as needed)\n",
        "X_padded = pad_sequences(X_sequences, maxlen=100)  # maxlen is the maximum sequence length\n",
        "# Display a few Pad Sequences\n",
        "print(\"\\nDisplay few values of pad sequences:\")\n",
        "X_padded\n"
      ],
      "metadata": {
        "colab": {
          "base_uri": "https://localhost:8080/"
        },
        "id": "M1K1A-6o9cOq",
        "outputId": "0e9077ae-324f-4ce4-b014-90e927981c89"
      },
      "execution_count": 10,
      "outputs": [
        {
          "output_type": "stream",
          "name": "stdout",
          "text": [
            "\n",
            "Display few values of sequences:\n",
            "[[26], [128, 21, 2339, 2340], [7], [321], [300, 5731, 1136, 541, 26, 1, 1522]]\n",
            "\n",
            "Display few values of pad sequences:\n"
          ]
        },
        {
          "output_type": "execute_result",
          "data": {
            "text/plain": [
              "array([[   0,    0,    0, ...,    0,    0,   26],\n",
              "       [   0,    0,    0, ...,   21, 2339, 2340],\n",
              "       [   0,    0,    0, ...,    0,    0,    7],\n",
              "       ...,\n",
              "       [   0,    0,    0, ...,    0,    0,  157],\n",
              "       [   0,    0,    0, ...,    0,    0,   52],\n",
              "       [   0,    0,    0, ...,    1,  609, 4211]], dtype=int32)"
            ]
          },
          "metadata": {},
          "execution_count": 10
        }
      ]
    },
    {
      "cell_type": "code",
      "source": [
        "X_padded.shape"
      ],
      "metadata": {
        "colab": {
          "base_uri": "https://localhost:8080/"
        },
        "id": "TEwD5gKmBgaC",
        "outputId": "bab4654a-7e2e-4d14-b456-6a0a427af473"
      },
      "execution_count": 11,
      "outputs": [
        {
          "output_type": "execute_result",
          "data": {
            "text/plain": [
              "(23340, 100)"
            ]
          },
          "metadata": {},
          "execution_count": 11
        }
      ]
    },
    {
      "cell_type": "code",
      "source": [
        "# Split the data into training and testing sets\n",
        "X_train, X_test, y_train, y_test = train_test_split(X_padded, y_encoded, test_size=0.2, random_state=42)\n",
        "# Display a few values of X_train\n",
        "print(\"\\nFew Values Of X_train :\")\n",
        "print('train X shape',X_train.shape)\n",
        "# Display a few values of X_test\n",
        "print(\"\\nFew Values Of X_test :\")\n",
        "print('Test X shape',X_test.shape)\n",
        "# Display a few values of y_train\n",
        "print(\"\\nFew Values Of y_train :\")\n",
        "print('Train Y shape',y_train.shape)\n",
        "# Display a few values of y_test\n",
        "print(\"\\nFew Values Of y_test:\")\n",
        "print('Test Y shape',y_test.shape)"
      ],
      "metadata": {
        "colab": {
          "base_uri": "https://localhost:8080/"
        },
        "id": "q8aN7q5L9gce",
        "outputId": "bcd1befd-00e4-4275-f8c8-6fd2c33cb5dd"
      },
      "execution_count": 12,
      "outputs": [
        {
          "output_type": "stream",
          "name": "stdout",
          "text": [
            "\n",
            "Few Values Of X_train :\n",
            "train X shape (18672, 100)\n",
            "\n",
            "Few Values Of X_test :\n",
            "Test X shape (4668, 100)\n",
            "\n",
            "Few Values Of y_train :\n",
            "Train Y shape (18672,)\n",
            "\n",
            "Few Values Of y_test:\n",
            "Test Y shape (4668,)\n"
          ]
        }
      ]
    },
    {
      "cell_type": "code",
      "source": [
        "X_train"
      ],
      "metadata": {
        "colab": {
          "base_uri": "https://localhost:8080/"
        },
        "id": "_k2peSON3NGQ",
        "outputId": "c91a4976-a889-4bf3-a392-59856a0bdc53"
      },
      "execution_count": 13,
      "outputs": [
        {
          "output_type": "execute_result",
          "data": {
            "text/plain": [
              "array([[   0,    0,    0, ...,    0,    0,  675],\n",
              "       [   0,    0,    0, ...,   36,  311, 2579],\n",
              "       [   0,    0,    0, ...,    0,    0, 1617],\n",
              "       ...,\n",
              "       [   0,    0,    0, ...,    0,    0,   24],\n",
              "       [   0,    0,    0, ...,   32,    8,   57],\n",
              "       [   0,    0,    0, ...,    0, 2276, 4810]], dtype=int32)"
            ]
          },
          "metadata": {},
          "execution_count": 13
        }
      ]
    },
    {
      "cell_type": "code",
      "source": [
        "from tensorflow.keras.models import Sequential\n",
        "from tensorflow.keras.layers import Embedding, SimpleRNN, Dense\n",
        "\n",
        "# Build the RNN model\n",
        "model = Sequential()\n",
        "model.add(Embedding(input_dim=18672, output_dim=100, input_length=100))  # Adjust input_dim, output_dim, and input_length\n",
        "model.add(SimpleRNN(units=128))  # Adjust units as needed\n",
        "model.add(Dense(units=3, activation='softmax'))  # 3 classes for sentiment, adjust as needed\n",
        "\n",
        "# Compile the model\n",
        "model.compile(optimizer='adam', loss='sparse_categorical_crossentropy', metrics=['accuracy'])\n",
        "\n",
        "# Train the model\n",
        "model.fit(X_train, y_train, epochs=10, batch_size=64, validation_split=0.2)  # Adjust epochs and batch_size\n"
      ],
      "metadata": {
        "colab": {
          "base_uri": "https://localhost:8080/"
        },
        "id": "tt7a5E-D9kih",
        "outputId": "53782170-1511-4698-e1a9-0e53b764b719"
      },
      "execution_count": 74,
      "outputs": [
        {
          "output_type": "stream",
          "name": "stdout",
          "text": [
            "Epoch 1/10\n",
            "234/234 [==============================] - 23s 88ms/step - loss: 0.7359 - accuracy: 0.6959 - val_loss: 0.5816 - val_accuracy: 0.7671\n",
            "Epoch 2/10\n",
            "234/234 [==============================] - 21s 90ms/step - loss: 0.4118 - accuracy: 0.8483 - val_loss: 0.5686 - val_accuracy: 0.7807\n",
            "Epoch 3/10\n",
            "234/234 [==============================] - 20s 87ms/step - loss: 0.2471 - accuracy: 0.9171 - val_loss: 2.7201 - val_accuracy: 0.5617\n",
            "Epoch 4/10\n",
            "234/234 [==============================] - 18s 79ms/step - loss: 0.7919 - accuracy: 0.7295 - val_loss: 0.7362 - val_accuracy: 0.6795\n",
            "Epoch 5/10\n",
            "234/234 [==============================] - 21s 91ms/step - loss: 0.4852 - accuracy: 0.8184 - val_loss: 0.7185 - val_accuracy: 0.7009\n",
            "Epoch 6/10\n",
            "234/234 [==============================] - 19s 83ms/step - loss: 0.4195 - accuracy: 0.8422 - val_loss: 0.7363 - val_accuracy: 0.7333\n",
            "Epoch 7/10\n",
            "234/234 [==============================] - 19s 83ms/step - loss: 0.3353 - accuracy: 0.8756 - val_loss: 0.7367 - val_accuracy: 0.7328\n",
            "Epoch 8/10\n",
            "234/234 [==============================] - 20s 85ms/step - loss: 0.2872 - accuracy: 0.8971 - val_loss: 0.7519 - val_accuracy: 0.7446\n",
            "Epoch 9/10\n",
            "234/234 [==============================] - 19s 82ms/step - loss: 0.2405 - accuracy: 0.9144 - val_loss: 0.7637 - val_accuracy: 0.7542\n",
            "Epoch 10/10\n",
            "234/234 [==============================] - 20s 83ms/step - loss: 0.2573 - accuracy: 0.9114 - val_loss: 0.7794 - val_accuracy: 0.7521\n"
          ]
        },
        {
          "output_type": "execute_result",
          "data": {
            "text/plain": [
              "<keras.src.callbacks.History at 0x7f99c55a3550>"
            ]
          },
          "metadata": {},
          "execution_count": 74
        }
      ]
    },
    {
      "cell_type": "code",
      "source": [
        "from keras.layers import LSTM\n",
        "model = Sequential()\n",
        "model.add(Embedding(input_dim=23340, output_dim=100, input_length=100))\n",
        "model.add(LSTM(128,return_sequences=True))\n",
        "model.add(LSTM(8))\n",
        "model.add(Dense(3, activation='softmax'))\n",
        "model.compile(optimizer='rmsprop',loss='sparse_categorical_crossentropy',metrics=['acc'])\n",
        "history = model.fit(X_train, y_train,epochs=10,batch_size=64,validation_split=0.2)"
      ],
      "metadata": {
        "colab": {
          "base_uri": "https://localhost:8080/"
        },
        "id": "mkfF5GjV9o_e",
        "outputId": "2a9270dd-1f47-4539-e9bd-a5eaa847b36a"
      },
      "execution_count": 75,
      "outputs": [
        {
          "output_type": "stream",
          "name": "stdout",
          "text": [
            "Epoch 1/10\n",
            "234/234 [==============================] - 79s 320ms/step - loss: 0.9340 - acc: 0.5178 - val_loss: 0.8626 - val_acc: 0.6195\n",
            "Epoch 2/10\n",
            "234/234 [==============================] - 75s 319ms/step - loss: 0.7475 - acc: 0.6993 - val_loss: 0.7101 - val_acc: 0.7143\n",
            "Epoch 3/10\n",
            "234/234 [==============================] - 78s 335ms/step - loss: 0.5752 - acc: 0.7863 - val_loss: 0.6034 - val_acc: 0.7574\n",
            "Epoch 4/10\n",
            "234/234 [==============================] - 73s 314ms/step - loss: 0.4670 - acc: 0.8322 - val_loss: 0.5549 - val_acc: 0.7754\n",
            "Epoch 5/10\n",
            "234/234 [==============================] - 75s 322ms/step - loss: 0.4064 - acc: 0.8586 - val_loss: 0.5389 - val_acc: 0.7896\n",
            "Epoch 6/10\n",
            "234/234 [==============================] - 78s 335ms/step - loss: 0.3525 - acc: 0.8807 - val_loss: 0.5404 - val_acc: 0.7936\n",
            "Epoch 7/10\n",
            "234/234 [==============================] - 74s 316ms/step - loss: 0.3255 - acc: 0.8904 - val_loss: 0.5506 - val_acc: 0.7933\n",
            "Epoch 8/10\n",
            "234/234 [==============================] - 73s 314ms/step - loss: 0.2959 - acc: 0.9006 - val_loss: 0.5661 - val_acc: 0.7794\n",
            "Epoch 9/10\n",
            "234/234 [==============================] - 73s 311ms/step - loss: 0.2869 - acc: 0.9088 - val_loss: 0.5724 - val_acc: 0.7898\n",
            "Epoch 10/10\n",
            "234/234 [==============================] - 75s 321ms/step - loss: 0.2584 - acc: 0.9168 - val_loss: 0.5802 - val_acc: 0.7952\n"
          ]
        }
      ]
    },
    {
      "cell_type": "code",
      "source": [
        "# Evaluate the model on the test set\n",
        "loss, accuracy = model.evaluate(X_test, y_test)\n",
        "print(f'Loss: {loss}')\n",
        "print(f'Accuracy: {accuracy}')\n"
      ],
      "metadata": {
        "id": "_r-L_hnJqjX4"
      },
      "execution_count": null,
      "outputs": []
    },
    {
      "cell_type": "code",
      "source": [
        "from sklearn.metrics import classification_report\n",
        "\n",
        "# Make predictions on the test set\n",
        "y_pred = model.predict(X_test)\n",
        "\n",
        "# Convert predicted probabilities to class labels\n",
        "y_pred_labels = np.argmax(y_pred, axis=1)\n",
        "\n",
        "# Generate a classification report\n",
        "report = classification_report(y_test, y_pred_labels, target_names=label_encoder.classes_)\n",
        "print(\"Classification Report:\")\n",
        "print(report)\n"
      ],
      "metadata": {
        "id": "wXvSBBiPqmI6"
      },
      "execution_count": null,
      "outputs": []
    },
    {
      "cell_type": "code",
      "source": [
        "import pickle\n",
        "with open('model_Sentiment_LSTM.pkl', 'wb') as model_file:\n",
        "    pickle.dump(model, model_file)"
      ],
      "metadata": {
        "id": "JUeaMbZiq3sX"
      },
      "execution_count": null,
      "outputs": []
    },
    {
      "cell_type": "code",
      "source": [
        "from keras.layers import LSTM\n",
        "from keras.layers import Bidirectional\n",
        "model = Sequential()\n",
        "model.add(Embedding(input_dim=18672, output_dim=100, input_length=100))\n",
        "model.add(Bidirectional(LSTM(128,return_sequences=True)))\n",
        "model.add(LSTM(8))\n",
        "model.add(Dense(3, activation='softmax'))\n",
        "model.compile(optimizer='rmsprop',loss='sparse_categorical_crossentropy',metrics=['acc'])\n",
        "history = model.fit(X_train, y_train,epochs=10,batch_size=64,validation_split=0.2)"
      ],
      "metadata": {
        "colab": {
          "base_uri": "https://localhost:8080/"
        },
        "id": "07247vPBrBvh",
        "outputId": "0effad65-b5f9-4c4b-d995-f29d18c1c7a9"
      },
      "execution_count": 83,
      "outputs": [
        {
          "output_type": "stream",
          "name": "stdout",
          "text": [
            "Epoch 1/10\n",
            "234/234 [==============================] - 150s 586ms/step - loss: 0.8571 - acc: 0.6091 - val_loss: 0.6515 - val_acc: 0.7355\n",
            "Epoch 2/10\n",
            "234/234 [==============================] - 133s 570ms/step - loss: 0.5702 - acc: 0.7851 - val_loss: 0.6000 - val_acc: 0.7644\n",
            "Epoch 3/10\n",
            "234/234 [==============================] - 138s 589ms/step - loss: 0.4731 - acc: 0.8294 - val_loss: 0.5812 - val_acc: 0.7719\n",
            "Epoch 4/10\n",
            "234/234 [==============================] - 144s 614ms/step - loss: 0.4160 - acc: 0.8529 - val_loss: 0.5917 - val_acc: 0.7714\n",
            "Epoch 5/10\n",
            "234/234 [==============================] - 145s 617ms/step - loss: 0.3732 - acc: 0.8703 - val_loss: 0.6082 - val_acc: 0.7722\n",
            "Epoch 6/10\n",
            "234/234 [==============================] - 135s 577ms/step - loss: 0.3456 - acc: 0.8807 - val_loss: 0.6199 - val_acc: 0.7644\n",
            "Epoch 7/10\n",
            "234/234 [==============================] - 144s 616ms/step - loss: 0.3176 - acc: 0.8904 - val_loss: 0.5735 - val_acc: 0.7893\n",
            "Epoch 8/10\n",
            "234/234 [==============================] - 146s 623ms/step - loss: 0.2900 - acc: 0.9015 - val_loss: 0.6005 - val_acc: 0.7813\n",
            "Epoch 9/10\n",
            "234/234 [==============================] - 144s 613ms/step - loss: 0.2713 - acc: 0.9102 - val_loss: 0.6360 - val_acc: 0.7719\n",
            "Epoch 10/10\n",
            "234/234 [==============================] - 144s 613ms/step - loss: 0.2581 - acc: 0.9120 - val_loss: 0.6546 - val_acc: 0.7523\n"
          ]
        }
      ]
    },
    {
      "cell_type": "code",
      "source": [],
      "metadata": {
        "id": "rQRSpuLNruvA"
      },
      "execution_count": null,
      "outputs": []
    }
  ]
}